{
 "cells": [
  {
   "cell_type": "code",
   "execution_count": 1,
   "id": "c9c2ecfc",
   "metadata": {},
   "outputs": [],
   "source": [
    "import numpy as np\n",
    "import tensorflow as tf"
   ]
  },
  {
   "cell_type": "code",
   "execution_count": 5,
   "id": "3365f6c5",
   "metadata": {},
   "outputs": [],
   "source": [
    "# let's create a temporary variable npz, where we will store each of the three Audiobooks datasets\n",
    "npz = np.load('Audiobooks_data_train.npz')\n",
    "\n",
    "# we extract the inputs using the keyword under which we saved them\n",
    "# to ensure that they are all floats, let's also take care of that\n",
    "train_inputs = npz['inputs'].astype(float)\n",
    "# targets must be int because of sparse_categorical_crossentropy (we want to be able to smoothly one-hot encode them)\n",
    "train_targets = npz['targets'].astype(int)\n",
    "\n",
    "# we load the validation data in the temporary variable\n",
    "npz = np.load('Audiobooks_data_validation.npz')\n",
    "# we can load the inputs and the targets in the same line\n",
    "validation_inputs, validation_targets = npz['inputs'].astype(float), npz['targets'].astype(int)\n",
    "\n",
    "# we load the test data in the temporary variable\n",
    "npz = np.load('Audiobooks_data_test.npz')\n",
    "# we create 2 variables that will contain the test inputs and the test targets\n",
    "test_inputs, test_targets = npz['inputs'].astype(float), npz['targets'].astype(int)"
   ]
  },
  {
   "cell_type": "code",
   "execution_count": 9,
   "id": "45253261",
   "metadata": {},
   "outputs": [
    {
     "name": "stdout",
     "output_type": "stream",
     "text": [
      "Epoch 1/100\n",
      "56/56 - 1s - loss: 0.5886 - accuracy: 0.6843 - val_loss: 0.4980 - val_accuracy: 0.7360 - 1s/epoch - 19ms/step\n",
      "Epoch 2/100\n",
      "56/56 - 0s - loss: 0.4618 - accuracy: 0.7614 - val_loss: 0.4102 - val_accuracy: 0.7785 - 109ms/epoch - 2ms/step\n",
      "Epoch 3/100\n",
      "56/56 - 0s - loss: 0.4081 - accuracy: 0.7854 - val_loss: 0.3748 - val_accuracy: 0.7987 - 112ms/epoch - 2ms/step\n",
      "Epoch 4/100\n",
      "56/56 - 0s - loss: 0.3825 - accuracy: 0.7952 - val_loss: 0.3583 - val_accuracy: 0.8121 - 109ms/epoch - 2ms/step\n",
      "Epoch 5/100\n",
      "56/56 - 0s - loss: 0.3696 - accuracy: 0.8002 - val_loss: 0.3448 - val_accuracy: 0.8255 - 124ms/epoch - 2ms/step\n",
      "Epoch 6/100\n",
      "56/56 - 0s - loss: 0.3602 - accuracy: 0.8064 - val_loss: 0.3421 - val_accuracy: 0.8166 - 112ms/epoch - 2ms/step\n",
      "Epoch 7/100\n",
      "56/56 - 0s - loss: 0.3515 - accuracy: 0.8114 - val_loss: 0.3332 - val_accuracy: 0.8255 - 106ms/epoch - 2ms/step\n",
      "Epoch 8/100\n",
      "56/56 - 0s - loss: 0.3435 - accuracy: 0.8181 - val_loss: 0.3307 - val_accuracy: 0.8233 - 107ms/epoch - 2ms/step\n",
      "Epoch 9/100\n",
      "56/56 - 0s - loss: 0.3431 - accuracy: 0.8089 - val_loss: 0.3243 - val_accuracy: 0.8412 - 112ms/epoch - 2ms/step\n",
      "Epoch 10/100\n",
      "56/56 - 0s - loss: 0.3413 - accuracy: 0.8167 - val_loss: 0.3197 - val_accuracy: 0.8300 - 111ms/epoch - 2ms/step\n",
      "Epoch 11/100\n",
      "56/56 - 0s - loss: 0.3378 - accuracy: 0.8125 - val_loss: 0.3183 - val_accuracy: 0.8233 - 110ms/epoch - 2ms/step\n",
      "Epoch 12/100\n",
      "56/56 - 0s - loss: 0.3361 - accuracy: 0.8167 - val_loss: 0.3205 - val_accuracy: 0.8255 - 116ms/epoch - 2ms/step\n",
      "Epoch 13/100\n",
      "56/56 - 0s - loss: 0.3318 - accuracy: 0.8201 - val_loss: 0.3168 - val_accuracy: 0.8367 - 123ms/epoch - 2ms/step\n",
      "Epoch 14/100\n",
      "56/56 - 0s - loss: 0.3290 - accuracy: 0.8217 - val_loss: 0.3276 - val_accuracy: 0.8255 - 136ms/epoch - 2ms/step\n",
      "Epoch 15/100\n",
      "56/56 - 0s - loss: 0.3284 - accuracy: 0.8209 - val_loss: 0.3140 - val_accuracy: 0.8367 - 135ms/epoch - 2ms/step\n",
      "Epoch 16/100\n",
      "56/56 - 0s - loss: 0.3335 - accuracy: 0.8156 - val_loss: 0.3168 - val_accuracy: 0.8188 - 117ms/epoch - 2ms/step\n",
      "Epoch 17/100\n",
      "56/56 - 0s - loss: 0.3288 - accuracy: 0.8212 - val_loss: 0.3214 - val_accuracy: 0.8233 - 115ms/epoch - 2ms/step\n"
     ]
    },
    {
     "data": {
      "text/plain": [
       "<keras.src.callbacks.History at 0x25089b60a00>"
      ]
     },
     "execution_count": 9,
     "metadata": {},
     "output_type": "execute_result"
    }
   ],
   "source": [
    "input_size = 10\n",
    "output_size = 2\n",
    "hidden_layer_size = 50\n",
    "    \n",
    "model = tf.keras.Sequential([\n",
    "    # tf.keras.layers.Dense is basically implementing: output = activation(dot(input, weight) + bias)\n",
    "    tf.keras.layers.Dense(hidden_layer_size, activation='relu'), # 1st hidden layer\n",
    "    tf.keras.layers.Dense(hidden_layer_size, activation='relu'), # 2nd hidden layer\n",
    "    tf.keras.layers.Dense(output_size, activation='softmax') # output layer\n",
    "])\n",
    "\n",
    "model.compile(optimizer='adam', loss='sparse_categorical_crossentropy', metrics=['accuracy'])\n",
    "\n",
    "batch_size = 64\n",
    "\n",
    "max_epochs = 100\n",
    "\n",
    "\n",
    "early_stopping = tf.keras.callbacks.EarlyStopping(patience=2)\n",
    "\n",
    "\n",
    "model.fit(train_inputs, # train inputs\n",
    "          train_targets, # train targets\n",
    "          batch_size=batch_size, # batch size\n",
    "          epochs=max_epochs, # epochs that we will train for (assuming early stopping doesn't kick in)\n",
    "          callbacks=[early_stopping], # early stopping\n",
    "          validation_data=(validation_inputs, validation_targets), # validation data\n",
    "          verbose = 2 # making sure we get enough information about the training process\n",
    "          )  "
   ]
  },
  {
   "cell_type": "code",
   "execution_count": 10,
   "id": "dd7ef7ec",
   "metadata": {},
   "outputs": [
    {
     "name": "stdout",
     "output_type": "stream",
     "text": [
      "14/14 [==============================] - 0s 2ms/step - loss: 0.3406 - accuracy: 0.8192\n"
     ]
    }
   ],
   "source": [
    "test_loss, test_accuracy = model.evaluate(test_inputs, test_targets)"
   ]
  },
  {
   "cell_type": "code",
   "execution_count": 11,
   "id": "b459217d",
   "metadata": {},
   "outputs": [
    {
     "name": "stdout",
     "output_type": "stream",
     "text": [
      "\n",
      "Test Loss: 0.34. Test accuracy: 81.92%\n"
     ]
    }
   ],
   "source": [
    "print('\\nTest Loss: {0:.2f}. Test accuracy: {1:.2f}%'.format(test_loss, test_accuracy*100))"
   ]
  },
  {
   "cell_type": "code",
   "execution_count": null,
   "id": "b64e3d1c",
   "metadata": {},
   "outputs": [],
   "source": []
  }
 ],
 "metadata": {
  "kernelspec": {
   "display_name": "Python 3",
   "language": "python",
   "name": "python3"
  },
  "language_info": {
   "codemirror_mode": {
    "name": "ipython",
    "version": 3
   },
   "file_extension": ".py",
   "mimetype": "text/x-python",
   "name": "python",
   "nbconvert_exporter": "python",
   "pygments_lexer": "ipython3",
   "version": "3.8.17"
  }
 },
 "nbformat": 4,
 "nbformat_minor": 5
}
